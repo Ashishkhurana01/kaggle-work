{
 "cells": [
  {
   "cell_type": "code",
   "execution_count": null,
   "metadata": {},
   "outputs": [],
   "source": []
  },
  {
   "cell_type": "code",
   "execution_count": null,
   "metadata": {},
   "outputs": [],
   "source": []
  },
  {
   "cell_type": "code",
   "execution_count": null,
   "metadata": {},
   "outputs": [],
   "source": []
  },
  {
   "cell_type": "code",
   "execution_count": null,
   "metadata": {},
   "outputs": [],
   "source": []
  },
  {
   "cell_type": "code",
   "execution_count": 2,
   "metadata": {},
   "outputs": [
    {
     "name": "stderr",
     "output_type": "stream",
     "text": [
      "warning: LF will be replaced by CRLF in House Prices - Advanced regression techniques v1.1.ipynb.\n",
      "The file will have its original line endings in your working directory\n",
      "error: pathspec ''House' did not match any file(s) known to git\n",
      "error: pathspec 'Prices' did not match any file(s) known to git\n",
      "error: pathspec '-' did not match any file(s) known to git\n",
      "error: pathspec 'Advanced' did not match any file(s) known to git\n",
      "error: pathspec 'regression' did not match any file(s) known to git\n",
      "error: pathspec 'techniques' did not match any file(s) known to git\n",
      "error: pathspec 'v1.1.ipynb' did not match any file(s) known to git\n",
      "Everything up-to-date\n"
     ]
    }
   ],
   "source": [
    "! git fetch\n",
    "! git add \"House Prices - Advanced regression techniques v1.1.ipynb\"\n",
    "! git commit -m \"New code push\" 'House Prices - Advanced regression techniques v1.1.ipynb\"\n",
    "! git push origin"
   ]
  },
  {
   "cell_type": "code",
   "execution_count": null,
   "metadata": {},
   "outputs": [],
   "source": []
  }
 ],
 "metadata": {
  "kernelspec": {
   "display_name": "Python 3",
   "language": "python",
   "name": "python3"
  },
  "language_info": {
   "codemirror_mode": {
    "name": "ipython",
    "version": 3
   },
   "file_extension": ".py",
   "mimetype": "text/x-python",
   "name": "python",
   "nbconvert_exporter": "python",
   "pygments_lexer": "ipython3",
   "version": "3.7.6"
  }
 },
 "nbformat": 4,
 "nbformat_minor": 4
}
